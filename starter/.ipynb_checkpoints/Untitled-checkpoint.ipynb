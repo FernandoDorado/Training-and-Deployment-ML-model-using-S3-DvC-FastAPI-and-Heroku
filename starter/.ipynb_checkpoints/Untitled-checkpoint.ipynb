{
 "cells": [
  {
   "cell_type": "code",
   "execution_count": 37,
   "id": "ec03e3cb",
   "metadata": {},
   "outputs": [],
   "source": [
    "import os\n",
    "import pickle\n",
    "\n",
    "import pandas as pd\n",
    "from fastapi import FastAPI\n",
    "\n",
    "from pydantic import BaseModel, Field\n",
    "import numpy as np\n",
    "from starter.ml.model import  train_model, inference, compute_model_metrics\n",
    "from starter.ml.data import process_data"
   ]
  },
  {
   "cell_type": "code",
   "execution_count": 97,
   "id": "d8c99803",
   "metadata": {},
   "outputs": [],
   "source": [
    "# Load models and encoder\n",
    "with open(\"./model/model.pkl\", \"rb\") as file:\n",
    "    model = pickle.load(file)\n",
    "\n",
    "with open(\"./model/encoder.pkl\", \"rb\") as file:\n",
    "    encoder = pickle.load(file)\n",
    "\n",
    "with open(\"./model/label_binarizer.pkl\", \"rb\") as file:\n",
    "    lb = pickle.load(file)\n"
   ]
  },
  {
   "cell_type": "code",
   "execution_count": 98,
   "id": "14f3cec3",
   "metadata": {},
   "outputs": [
    {
     "data": {
      "text/plain": [
       "RandomForestClassifier(max_depth=25)"
      ]
     },
     "execution_count": 98,
     "metadata": {},
     "output_type": "execute_result"
    }
   ],
   "source": [
    "model"
   ]
  },
  {
   "cell_type": "code",
   "execution_count": 99,
   "id": "6fc03024",
   "metadata": {},
   "outputs": [],
   "source": [
    "categorical_features = [\n",
    "    \"workclass\",\n",
    "    \"education\",\n",
    "    \"marital-status\",\n",
    "    \"occupation\",\n",
    "    \"relationship\",\n",
    "    \"race\",\n",
    "    \"sex\",\n",
    "    \"native-country\",\n",
    "]\n"
   ]
  },
  {
   "cell_type": "code",
   "execution_count": 100,
   "id": "b20832a2",
   "metadata": {},
   "outputs": [],
   "source": [
    "df_data = pd.DataFrame({\n",
    "        \"age\": 49,\n",
    "        \"workclass\": \"Private\",\n",
    "        \"fnlgt\": 187454,\n",
    "        \"education\": \"HS-grad\",\n",
    "        \"education-num\": 9,\n",
    "        \"marital-status\": \"Married-civ-spouse\",\n",
    "        \"occupation\": \"Sales\",\n",
    "        \"relationship\": \"Husband\",\n",
    "        \"race\": \"White\",\n",
    "        \"sex\": \"Male\",\n",
    "        \"capital-gain\": 99999,\n",
    "        \"capital-loss\": 0,\n",
    "        \"hours-per-week\": 65,\n",
    "        \"native-country\": \"United-States\"\n",
    "        \"Salary\": 0\n",
    "    }, index = [0])"
   ]
  },
  {
   "cell_type": "code",
   "execution_count": 101,
   "id": "7f04327a",
   "metadata": {},
   "outputs": [
    {
     "data": {
      "text/html": [
       "<div>\n",
       "<style scoped>\n",
       "    .dataframe tbody tr th:only-of-type {\n",
       "        vertical-align: middle;\n",
       "    }\n",
       "\n",
       "    .dataframe tbody tr th {\n",
       "        vertical-align: top;\n",
       "    }\n",
       "\n",
       "    .dataframe thead th {\n",
       "        text-align: right;\n",
       "    }\n",
       "</style>\n",
       "<table border=\"1\" class=\"dataframe\">\n",
       "  <thead>\n",
       "    <tr style=\"text-align: right;\">\n",
       "      <th></th>\n",
       "      <th>age</th>\n",
       "      <th>workclass</th>\n",
       "      <th>fnlgt</th>\n",
       "      <th>education</th>\n",
       "      <th>education-num</th>\n",
       "      <th>marital-status</th>\n",
       "      <th>occupation</th>\n",
       "      <th>relationship</th>\n",
       "      <th>race</th>\n",
       "      <th>sex</th>\n",
       "      <th>capital-gain</th>\n",
       "      <th>capital-loss</th>\n",
       "      <th>hours-per-week</th>\n",
       "      <th>native-country</th>\n",
       "    </tr>\n",
       "  </thead>\n",
       "  <tbody>\n",
       "    <tr>\n",
       "      <th>0</th>\n",
       "      <td>49</td>\n",
       "      <td>Private</td>\n",
       "      <td>187454</td>\n",
       "      <td>HS-grad</td>\n",
       "      <td>9</td>\n",
       "      <td>Married-civ-spouse</td>\n",
       "      <td>Sales</td>\n",
       "      <td>Husband</td>\n",
       "      <td>White</td>\n",
       "      <td>Male</td>\n",
       "      <td>99999</td>\n",
       "      <td>0</td>\n",
       "      <td>65</td>\n",
       "      <td>United-States</td>\n",
       "    </tr>\n",
       "  </tbody>\n",
       "</table>\n",
       "</div>"
      ],
      "text/plain": [
       "   age workclass   fnlgt education  education-num      marital-status  \\\n",
       "0   49   Private  187454   HS-grad              9  Married-civ-spouse   \n",
       "\n",
       "  occupation relationship   race   sex  capital-gain  capital-loss  \\\n",
       "0      Sales      Husband  White  Male         99999             0   \n",
       "\n",
       "   hours-per-week native-country  \n",
       "0              65  United-States  "
      ]
     },
     "execution_count": 101,
     "metadata": {},
     "output_type": "execute_result"
    }
   ],
   "source": [
    "df_data"
   ]
  },
  {
   "cell_type": "code",
   "execution_count": 102,
   "id": "a1e59f61",
   "metadata": {},
   "outputs": [],
   "source": [
    "X, _, _, _ = process_data(\n",
    "    df_data,\n",
    "    categorical_features=categorical_features,\n",
    "    label=None,\n",
    "    training=False,\n",
    "    encoder=encoder,\n",
    "    lb=lb,\n",
    ")"
   ]
  },
  {
   "cell_type": "code",
   "execution_count": 103,
   "id": "782176ef",
   "metadata": {},
   "outputs": [
    {
     "data": {
      "text/plain": [
       "(1, 108)"
      ]
     },
     "execution_count": 103,
     "metadata": {},
     "output_type": "execute_result"
    }
   ],
   "source": [
    "X.shape"
   ]
  },
  {
   "cell_type": "code",
   "execution_count": 93,
   "id": "5c9ee760",
   "metadata": {},
   "outputs": [],
   "source": [
    "y = np.array([])\n",
    "X_categorical = df_data[categorical_features].values\n",
    "X_numerical = df_data.drop(*[categorical_features], axis=1)"
   ]
  },
  {
   "cell_type": "code",
   "execution_count": 78,
   "id": "a1cbab36",
   "metadata": {},
   "outputs": [],
   "source": [
    "X_categorical = encoder.transform(X_categorical)"
   ]
  },
  {
   "cell_type": "code",
   "execution_count": 79,
   "id": "43304e19",
   "metadata": {},
   "outputs": [
    {
     "data": {
      "text/plain": [
       "(1, 6)"
      ]
     },
     "execution_count": 79,
     "metadata": {},
     "output_type": "execute_result"
    }
   ],
   "source": [
    "X_numerical.shape"
   ]
  },
  {
   "cell_type": "code",
   "execution_count": 84,
   "id": "c041beca",
   "metadata": {},
   "outputs": [
    {
     "data": {
      "text/plain": [
       "(1, 8)"
      ]
     },
     "execution_count": 84,
     "metadata": {},
     "output_type": "execute_result"
    }
   ],
   "source": [
    "X_categorical.shape"
   ]
  },
  {
   "cell_type": "code",
   "execution_count": 88,
   "id": "68d434cc",
   "metadata": {},
   "outputs": [
    {
     "data": {
      "text/plain": [
       "array([['Private', 'HS-grad', 'Married-civ-spouse', 'Sales', 'Husband',\n",
       "        'White', 'Male', 'United-States']], dtype=object)"
      ]
     },
     "execution_count": 88,
     "metadata": {},
     "output_type": "execute_result"
    }
   ],
   "source": [
    "X_categorical"
   ]
  },
  {
   "cell_type": "code",
   "execution_count": 91,
   "id": "c2dd3cc8",
   "metadata": {},
   "outputs": [
    {
     "data": {
      "text/plain": [
       "(1, 8)"
      ]
     },
     "execution_count": 91,
     "metadata": {},
     "output_type": "execute_result"
    }
   ],
   "source": [
    "X_categorical.shape"
   ]
  },
  {
   "cell_type": "code",
   "execution_count": 105,
   "id": "25306701",
   "metadata": {},
   "outputs": [],
   "source": [
    "import numpy as np\n",
    "from sklearn.preprocessing import LabelBinarizer, OneHotEncoder\n",
    "import pickle\n",
    "\n",
    "encoder = OneHotEncoder(sparse=False, handle_unknown=\"ignore\")\n",
    "lb = LabelBinarizer()\n",
    "X_categorical = encoder.fit_transform(X_categorical) "
   ]
  },
  {
   "cell_type": "code",
   "execution_count": 74,
   "id": "5aab582b",
   "metadata": {},
   "outputs": [
    {
     "data": {
      "text/plain": [
       "(1, 8)"
      ]
     },
     "execution_count": 74,
     "metadata": {},
     "output_type": "execute_result"
    }
   ],
   "source": [
    "X_categorical.shape"
   ]
  },
  {
   "cell_type": "code",
   "execution_count": 75,
   "id": "a6415340",
   "metadata": {},
   "outputs": [
    {
     "data": {
      "text/plain": [
       "array([[1., 1., 1., 1., 1., 1., 1., 1.]])"
      ]
     },
     "execution_count": 75,
     "metadata": {},
     "output_type": "execute_result"
    }
   ],
   "source": [
    "X_categorical"
   ]
  },
  {
   "cell_type": "code",
   "execution_count": 86,
   "id": "8f98416b",
   "metadata": {},
   "outputs": [
    {
     "data": {
      "text/html": [
       "<div>\n",
       "<style scoped>\n",
       "    .dataframe tbody tr th:only-of-type {\n",
       "        vertical-align: middle;\n",
       "    }\n",
       "\n",
       "    .dataframe tbody tr th {\n",
       "        vertical-align: top;\n",
       "    }\n",
       "\n",
       "    .dataframe thead th {\n",
       "        text-align: right;\n",
       "    }\n",
       "</style>\n",
       "<table border=\"1\" class=\"dataframe\">\n",
       "  <thead>\n",
       "    <tr style=\"text-align: right;\">\n",
       "      <th></th>\n",
       "      <th>workclass</th>\n",
       "      <th>education</th>\n",
       "      <th>marital-status</th>\n",
       "      <th>occupation</th>\n",
       "      <th>relationship</th>\n",
       "      <th>race</th>\n",
       "      <th>sex</th>\n",
       "      <th>native-country</th>\n",
       "    </tr>\n",
       "  </thead>\n",
       "  <tbody>\n",
       "    <tr>\n",
       "      <th>0</th>\n",
       "      <td>Private</td>\n",
       "      <td>HS-grad</td>\n",
       "      <td>Married-civ-spouse</td>\n",
       "      <td>Sales</td>\n",
       "      <td>Husband</td>\n",
       "      <td>White</td>\n",
       "      <td>Male</td>\n",
       "      <td>United-States</td>\n",
       "    </tr>\n",
       "  </tbody>\n",
       "</table>\n",
       "</div>"
      ],
      "text/plain": [
       "  workclass education      marital-status occupation relationship   race  \\\n",
       "0   Private   HS-grad  Married-civ-spouse      Sales      Husband  White   \n",
       "\n",
       "    sex native-country  \n",
       "0  Male  United-States  "
      ]
     },
     "execution_count": 86,
     "metadata": {},
     "output_type": "execute_result"
    }
   ],
   "source": [
    "df_data[categorical_features]"
   ]
  },
  {
   "cell_type": "code",
   "execution_count": null,
   "id": "989915d2",
   "metadata": {},
   "outputs": [],
   "source": []
  }
 ],
 "metadata": {
  "kernelspec": {
   "display_name": "Python 3 (ipykernel)",
   "language": "python",
   "name": "python3"
  },
  "language_info": {
   "codemirror_mode": {
    "name": "ipython",
    "version": 3
   },
   "file_extension": ".py",
   "mimetype": "text/x-python",
   "name": "python",
   "nbconvert_exporter": "python",
   "pygments_lexer": "ipython3",
   "version": "3.8.13"
  }
 },
 "nbformat": 4,
 "nbformat_minor": 5
}
